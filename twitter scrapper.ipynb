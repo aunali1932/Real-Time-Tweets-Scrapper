{
 "cells": [
  {
   "cell_type": "markdown",
   "metadata": {},
   "source": [
    "Importing Required Packages"
   ]
  },
  {
   "cell_type": "code",
   "execution_count": 2,
   "metadata": {},
   "outputs": [],
   "source": [
    "import snscrape.modules.twitter as sn\n",
    "import pandas as pd"
   ]
  },
  {
   "cell_type": "code",
   "execution_count": 15,
   "metadata": {},
   "outputs": [],
   "source": [
    "keyword = 'Pakistan' #keyword to search tweets for\n",
    "tweets = []  #array to store scraped tweets\n",
    "limit = 100 #as it is realtime data so we have to set a limit other wise it will run forever\n",
    "SnScrapeObject = sn.TwitterSearchScraper(keyword).get_items()  #It returns an snscrape object that is in key value pair format"
   ]
  },
  {
   "cell_type": "markdown",
   "metadata": {},
   "source": [
    "Analyzing the returned SnScrape object:\n",
    "as we can see it has alot of irrelevant data that is not needed we need to filter only the data that we want"
   ]
  },
  {
   "cell_type": "code",
   "execution_count": 16,
   "metadata": {},
   "outputs": [
    {
     "name": "stdout",
     "output_type": "stream",
     "text": [
      "{'url': 'https://twitter.com/PakistanPTIka/status/1549041144935649291', 'date': datetime.datetime(2022, 7, 18, 14, 39, 23, tzinfo=datetime.timezone.utc), 'content': 'بھائی نے بولا دینےکا... تو دینے کا....\\n#الیکشن_کمشنر_استعفی_دو https://t.co/2U4AayXYCG', 'renderedContent': 'بھائی نے بولا دینےکا... تو دینے کا....\\n#الیکشن_کمشنر_استعفی_دو twitter.com/MashwaniAzhar/…', 'id': 1549041144935649291, 'user': User(username='PakistanPTIka', id=1531017497285120002, displayname='غلام', description='اللہ مرشد ImranKhanPTI@ کو میری عمر بھی لگادے. آمین', rawDescription='اللہ مرشد ImranKhanPTI@ کو میری عمر بھی لگادے. آمین', descriptionUrls=None, verified=False, created=datetime.datetime(2022, 5, 29, 21, 0, 7, tzinfo=datetime.timezone.utc), followersCount=86, friendsCount=360, statusesCount=3526, favouritesCount=821, listedCount=0, mediaCount=5, location='', protected=False, linkUrl=None, linkTcourl=None, profileImageUrl='https://pbs.twimg.com/profile_images/1547468514784600065/JO-2FpKL_normal.jpg', profileBannerUrl='https://pbs.twimg.com/profile_banners/1531017497285120002/1653874629', label=None), 'replyCount': 0, 'retweetCount': 0, 'likeCount': 0, 'quoteCount': 0, 'conversationId': 1549041144935649291, 'lang': 'ur', 'source': '<a href=\"https://mobile.twitter.com\" rel=\"nofollow\">Twitter Web App</a>', 'sourceUrl': 'https://mobile.twitter.com', 'sourceLabel': 'Twitter Web App', 'outlinks': ['https://twitter.com/MashwaniAzhar/status/1549035281793175552'], 'tcooutlinks': ['https://t.co/2U4AayXYCG'], 'media': None, 'retweetedTweet': None, 'quotedTweet': Tweet(url='https://twitter.com/MashwaniAzhar/status/1549035281793175552', date=datetime.datetime(2022, 7, 18, 14, 16, 5, tzinfo=datetime.timezone.utc), content='#الیکشن_کمشنر_استعفی_دو \\n\\n#الیکشن_کمشنر_استعفی_دو \\n\\n#الیکشن_کمشنر_استعفی_دو', renderedContent='#الیکشن_کمشنر_استعفی_دو \\n\\n#الیکشن_کمشنر_استعفی_دو \\n\\n#الیکشن_کمشنر_استعفی_دو', id=1549035281793175552, user=User(username='MashwaniAzhar', id=2415481247, displayname='Azhar Mashwani', description='Personal account & views || Following/ RTs ≠ Endorsement || official account 👉🏻 @AzharMashwaniPK || ‘𝘰𝘯𝘭𝘺 𝘥𝘦𝘢𝘥 𝘧𝘪𝘴𝘩 𝘨𝘰 𝘸𝘪𝘵𝘩 𝘵𝘩𝘦 𝘧𝘭𝘰𝘸’', rawDescription='Personal account & views || Following/ RTs ≠ Endorsement || official account 👉🏻 @AzharMashwaniPK || ‘𝘰𝘯𝘭𝘺 𝘥𝘦𝘢𝘥 𝘧𝘪𝘴𝘩 𝘨𝘰 𝘸𝘪𝘵𝘩 𝘵𝘩𝘦 𝘧𝘭𝘰𝘸’', descriptionUrls=None, verified=True, created=datetime.datetime(2014, 3, 16, 15, 41, 44, tzinfo=datetime.timezone.utc), followersCount=347240, friendsCount=3700, statusesCount=77062, favouritesCount=117727, listedCount=286, mediaCount=8369, location='Pakistan', protected=False, linkUrl='https://www.instagram.com/AzharQaziMashwani', linkTcourl='https://t.co/bOWLI7D9fO', profileImageUrl='https://pbs.twimg.com/profile_images/1546606864862953475/kgVopDrD_normal.jpg', profileBannerUrl='https://pbs.twimg.com/profile_banners/2415481247/1568386930', label=None), replyCount=31, retweetCount=1020, likeCount=1782, quoteCount=20, conversationId=1549035281793175552, lang='qht', source='<a href=\"http://twitter.com/download/iphone\" rel=\"nofollow\">Twitter for iPhone</a>', sourceUrl='http://twitter.com/download/iphone', sourceLabel='Twitter for iPhone', outlinks=None, tcooutlinks=None, media=None, retweetedTweet=None, quotedTweet=None, inReplyToTweetId=None, inReplyToUser=None, mentionedUsers=None, coordinates=None, place=None, hashtags=['الیکشن_کمشنر_استعفی_دو', 'الیکشن_کمشنر_استعفی_دو', 'الیکشن_کمشنر_استعفی_دو'], cashtags=None), 'inReplyToTweetId': None, 'inReplyToUser': None, 'mentionedUsers': None, 'coordinates': None, 'place': None, 'hashtags': ['الیکشن_کمشنر_استعفی_دو'], 'cashtags': None}\n"
     ]
    }
   ],
   "source": [
    "for tweet in SnScrapeObject:\n",
    "    \n",
    "    print(vars(tweet))\n",
    "    break #we only need oneobject to analyze it"
   ]
  },
  {
   "cell_type": "markdown",
   "metadata": {},
   "source": [
    "Now actually getting the tweets and saving it into an array"
   ]
  },
  {
   "cell_type": "code",
   "execution_count": 17,
   "metadata": {},
   "outputs": [
    {
     "name": "stderr",
     "output_type": "stream",
     "text": [
      "C:\\Users\\AUNALI~1\\AppData\\Local\\Temp/ipykernel_18244/4131817109.py:5: FutureWarning: username is deprecated, use user.username instead\n",
      "  tweets.append([tweet.date, tweet.username,tweet.user.displayname, tweet.content])\n"
     ]
    }
   ],
   "source": [
    "for tweet in SnScrapeObject:\n",
    "    if len(tweets) == limit: #when required no is reached loop should break\n",
    "       break\n",
    "    else:\n",
    "        tweets.append([tweet.date, tweet.username,tweet.user.displayname, tweet.content]) #getting only the information we want"
   ]
  },
  {
   "cell_type": "markdown",
   "metadata": {},
   "source": [
    "Converting into a Data Frame and printing it\n"
   ]
  },
  {
   "cell_type": "code",
   "execution_count": 19,
   "metadata": {},
   "outputs": [
    {
     "name": "stdout",
     "output_type": "stream",
     "text": [
      "                        Date         UserName         DisplayName  \\\n",
      "0  2022-07-18 14:39:20+00:00      haris_tiger           Haris Ali   \n",
      "1  2022-07-18 14:39:18+00:00     energiminas1         Energiminas   \n",
      "2  2022-07-18 14:39:18+00:00    Amna_tariq_11          Amna Tariq   \n",
      "3  2022-07-18 14:39:17+00:00    SILENTLOVE505          خاموش محبت   \n",
      "4  2022-07-18 14:39:14+00:00   SAnwar43629547             S Anwar   \n",
      "..                       ...              ...                 ...   \n",
      "95 2022-07-18 14:37:15+00:00  TheMoazClothing   The Moaz Clothing   \n",
      "96 2022-07-18 14:37:14+00:00      Pakiyo_KMKB       Pakistan KMKB   \n",
      "97 2022-07-18 14:37:10+00:00   MuhativlogAtif   Dr. Muhammad Atif   \n",
      "98 2022-07-18 14:37:08+00:00  AhmadHassanDo12  Ahmad Hassan Dogar   \n",
      "99 2022-07-18 14:37:08+00:00  PakistanTrave16   Pakistan Traveler   \n",
      "\n",
      "                                                Tweet  \n",
      "0            @Naya__Pakistan_ You did a fantastic job  \n",
      "1   Será propiedad de #Barrick en un 50%, del Gobi...  \n",
      "2   Election commissioner resign dain..  #ECP_Paki...  \n",
      "3               from pakistan https://t.co/WYSOoCfyjz  \n",
      "4   @ARYSabiirShakir Allah onko aisy gham dekhaye ...  \n",
      "..                                                ...  \n",
      "95  NO WORK TODAY\\n\\nDue to Public Holiday all ove...  \n",
      "96  @andrabi_musaib @muneeb_butt9 Chal chutiye!\\nT...  \n",
      "97  Your conduct is questioned by the major politi...  \n",
      "98          Pakistan Zindabad #الیکشن_کمشنر_استعفی_دو  \n",
      "99             https://t.co/pjE2SCehuf\\n\\n#IchBinRaus  \n",
      "\n",
      "[100 rows x 4 columns]\n"
     ]
    }
   ],
   "source": [
    "cols=['Date', 'UserName','DisplayName', 'Tweet']\n",
    "df = pd.DataFrame(tweets,columns= cols)\n",
    "print(df)"
   ]
  },
  {
   "cell_type": "markdown",
   "metadata": {},
   "source": [
    "COnverting into a csv and locally saving it"
   ]
  },
  {
   "cell_type": "code",
   "execution_count": 20,
   "metadata": {},
   "outputs": [],
   "source": [
    "df.to_csv('tweets.csv')"
   ]
  }
 ],
 "metadata": {
  "kernelspec": {
   "display_name": "Python 3.9.13 64-bit (windows store)",
   "language": "python",
   "name": "python3"
  },
  "language_info": {
   "codemirror_mode": {
    "name": "ipython",
    "version": 3
   },
   "file_extension": ".py",
   "mimetype": "text/x-python",
   "name": "python",
   "nbconvert_exporter": "python",
   "pygments_lexer": "ipython3",
   "version": "3.9.13"
  },
  "orig_nbformat": 4,
  "vscode": {
   "interpreter": {
    "hash": "683aee01aa7d925ec241cd6f35a4feff5ce7ea5a414a879b15de6fb5ac1e597c"
   }
  }
 },
 "nbformat": 4,
 "nbformat_minor": 2
}
